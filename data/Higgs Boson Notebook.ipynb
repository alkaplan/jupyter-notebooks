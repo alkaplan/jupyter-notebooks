{
 "cells": [
  {
   "cell_type": "markdown",
   "metadata": {},
   "source": [
    "<img src=\"http://files.oproject.org/img/HeaderOpenData.png\">\n",
    "\n",
    "# CMS Open Data Example #6: Higgs Boson\n",
    "\n",
    "The discovery of the Higgs Boson is arguably the most consequential achievement of CERN's 60+ years of experimentation.  It confirmed many predictions about the Standard Model and the unification of the electromagnetic and weak nuclear forces into the electroweak force.  The Higgs proved especially difficult to discover as resonances indicating its existence existed at approximately 126 GeV, a higher energy than any other particle ever detected.  Dimuon resonances that indicated the existence of the J/$\\psi$, $\\phi$, $\\eta$, and even Z bosons all occured at or below 100 GeV.  After 100 GeV, data became notoriously noisy and difficult to interperet prior to the operation of the LHC.  In addition, in order to meet the standards of the physics community, the data had to have a significance of 6 standard deviations (or 6$\\sigma$).\n",
    "\n",
    "In this notebook we will recreate the analysis used to interperet the raw data from CMS and ATLAS to prove the discovery of the Higgs for ourselves.\n",
    "\n",
    "--------\n",
    "## Import required modules"
   ]
  },
  {
   "cell_type": "code",
   "execution_count": null,
   "metadata": {
    "collapsed": false
   },
   "outputs": [],
   "source": [
    "from ROOT import TFile, TCanvas, TH1F, TLorentzVector\n",
    "%jsroot on"
   ]
  },
  {
   "cell_type": "markdown",
   "metadata": {},
   "source": [
    "## Read in data from input file"
   ]
  },
  {
   "cell_type": "code",
   "execution_count": null,
   "metadata": {
    "collapsed": true
   },
   "outputs": [],
   "source": [
    "file = TFile(\"../data/Higgs.root\",\"READ\")"
   ]
  },
  {
   "cell_type": "markdown",
   "metadata": {},
   "source": [
    "## Declare Histogram"
   ]
  },
  {
   "cell_type": "code",
   "execution_count": null,
   "metadata": {
    "collapsed": false
   },
   "outputs": [],
   "source": [
    "fourlepton = TH1F(\"Four lepton\",\"ZZ Mass;ZZ mass [GeV];Events\", 1000, 100, 160)"
   ]
  },
  {
   "cell_type": "markdown",
   "metadata": {
    "collapsed": true
   },
   "source": [
    "## Initialize Canvas"
   ]
  },
  {
   "cell_type": "code",
   "execution_count": null,
   "metadata": {
    "collapsed": false
   },
   "outputs": [],
   "source": [
    "Canvas = TCanvas()"
   ]
  },
  {
   "cell_type": "markdown",
   "metadata": {},
   "source": [
    "## Fill histogram with data"
   ]
  },
  {
   "cell_type": "code",
   "execution_count": null,
   "metadata": {
    "collapsed": false
   },
   "outputs": [],
   "source": [
    "for lepton in file.Fourlepton:\n",
    "    \n",
    "    lep1 = TLorentzVector(lepton.Lepton1_Px, lepton.Lepton1_Py, lepton.Lepton1_Pz, lepton.Lepton1_Energy)\n",
    "    \n",
    "    lep2 = TLorentzVector(lepton.Lepton2_Px, lepton.Lepton2_Py, lepton.Lepton2_Pz, lepton.Lepton2_Energy)\n",
    "    \n",
    "    lep3 = TLorentzVector(lepton.Lepton3_Px, lepton.Lepton3_Py, lepton.Lepton3_Pz, lepton.Lepton3_Energy)\n",
    "    \n",
    "    lep4 = TLorentzVector(lepton.Lepton4_Px, lepton.Lepton4_Py, lepton.Lepton4_Pz, lepton.Lepton4_Energy)\n",
    "    \n",
    "    InvariantEnergy = (lep1 + lep2 + lep3 + lep4).M()\n",
    "    \n",
    "    if(InvariantEnergy > 100 and InvariantEnergy < 160): \n",
    "        \n",
    "        fourlepton.Fill(InvariantEnergy)"
   ]
  },
  {
   "cell_type": "code",
   "execution_count": null,
   "metadata": {
    "collapsed": false
   },
   "outputs": [],
   "source": [
    "fourlepton.Draw()\n",
    "\n",
    "Canvas.Draw()"
   ]
  },
  {
   "cell_type": "markdown",
   "metadata": {},
   "source": [
    "## Now look for the ZZ -> Four Leptonresonance"
   ]
  },
  {
   "cell_type": "code",
   "execution_count": null,
   "metadata": {
    "collapsed": true
   },
   "outputs": [],
   "source": [
    "higgs = TH1F(\"ZZ\",\"ZZ mass;ZZ mass [GeV];Events\", 1000, 110, 140)"
   ]
  },
  {
   "cell_type": "code",
   "execution_count": null,
   "metadata": {
    "collapsed": true
   },
   "outputs": [],
   "source": [
    "for lepton in file.Fourlepton:\n",
    "    \n",
    "    lep1 = TLorentzVector(lepton.Lepton1_Px, lepton.Lepton1_Py, lepton.Lepton1_Pz, lepton.Lepton1_Energy)\n",
    "    \n",
    "    lep2 = TLorentzVector(lepton.Lepton2_Px, lepton.Lepton2_Py, lepton.Lepton2_Pz, lepton.Lepton2_Energy)\n",
    "    \n",
    "    lep3 = TLorentzVector(lepton.Lepton3_Px, lepton.Lepton3_Py, lepton.Lepton3_Pz, lepton.Lepton3_Energy)\n",
    "    \n",
    "    lep4 = TLorentzVector(lepton.Lepton4_Px, lepton.Lepton4_Py, lepton.Lepton4_Pz, lepton.Lepton4_Energy)\n",
    "    \n",
    "    InvariantEnergy = (lep1 + lep2 + lep3 + lep4).M()\n",
    "    \n",
    "    if(InvariantEnergy > 110 and InvariantEnergy < 140): \n",
    "        \n",
    "        higgs.Fill(InvariantEnergy)"
   ]
  },
  {
   "cell_type": "code",
   "execution_count": null,
   "metadata": {
    "collapsed": true
   },
   "outputs": [],
   "source": [
    "Canvas.Clear()\n",
    "\n",
    "Gaussian = TF1(\"Gaussian\",\"gaus\", 120, 130)\n",
    "Background  = TF1(\"Background\",\"pol1\", 120, 130)\n",
    "\n",
    "Gaussian.SetLineColor(kRed)\n",
    "Background.SetLineColor(kGreen)\n",
    "\n",
    "higgs.Fit(Gaussian,\"R\")\n",
    "higgs.Fit(Background,\"R+\")\n",
    "\n",
    "Canvas.Draw()"
   ]
  }
 ],
 "metadata": {
  "anaconda-cloud": {},
  "kernelspec": {
   "display_name": "Python [Root]",
   "language": "python",
   "name": "Python [Root]"
  },
  "language_info": {
   "codemirror_mode": {
    "name": "ipython",
    "version": 2
   },
   "file_extension": ".py",
   "mimetype": "text/x-python",
   "name": "python",
   "nbconvert_exporter": "python",
   "pygments_lexer": "ipython2",
   "version": "2.7.12"
  }
 },
 "nbformat": 4,
 "nbformat_minor": 0
}
