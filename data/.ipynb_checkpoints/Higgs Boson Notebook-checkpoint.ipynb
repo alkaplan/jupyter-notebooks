{
 "cells": [
  {
   "cell_type": "markdown",
   "metadata": {},
   "source": [
    "<img src=\"http://files.oproject.org/img/HeaderOpenData.png\">\n",
    "\n",
    "# CMS Open Data Example #6: Higgs Boson\n",
    "\n",
    "The discovery of the Higgs Boson is arguably the most consequential achievement of CERN's 60+ years of experimentation.  It confirmed many predictions about the Standard Model and the unification of the electromagnetic and weak nuclear forces into the electroweak force.  The Higgs proved especially difficult to discover as resonances indicating its existence existed at approximately 126 GeV, a higher energy than any other particle ever detected.  Dimuon resonances that indicated the existence of the J/$\\psi$, $\\phi$, $\\eta$, and even Z bosons all occured at or below 100 GeV.  After 100 GeV, data became notoriously noisy and difficult to interperet prior to the operation of the LHC.  In addition, in order to meet the standards of the physics community, the data had to have a significance of 6 standard deviations (or 6$\\sigma$).\n",
    "\n",
    "In this notebook we will recreate the analysis used to interperet the raw data from CMS and ATLAS to prove the discovery of the Higgs for ourselves.\n",
    "\n",
    "--------\n",
    "## Import required modules"
   ]
  },
  {
   "cell_type": "code",
   "execution_count": null,
   "metadata": {
    "collapsed": false
   },
   "outputs": [],
   "source": [
    "from ROOT import TFile, TCanvas, TH1F, TLorentzVector\n",
    "%jsroot on"
   ]
  },
  {
   "cell_type": "markdown",
   "metadata": {},
   "source": [
    "## Read in data from input file"
   ]
  },
  {
   "cell_type": "code",
   "execution_count": null,
   "metadata": {
    "collapsed": true
   },
   "outputs": [],
   "source": [
    "file = TFile(\"../data/Higgs.root\",\"READ\")"
   ]
  },
  {
   "cell_type": "markdown",
   "metadata": {},
   "source": [
    "## Declare Histogram"
   ]
  },
  {
   "cell_type": "code",
   "execution_count": null,
   "metadata": {
    "collapsed": false
   },
   "outputs": [],
   "source": [
    "diphoton = TH1F(\"diphoton\",\"#gamma#gamma mass;#gamma#gamma mass [GeV];Events\", 1000, 100, 160)"
   ]
  },
  {
   "cell_type": "markdown",
   "metadata": {
    "collapsed": true
   },
   "source": [
    "## Initialize Canvas"
   ]
  },
  {
   "cell_type": "code",
   "execution_count": null,
   "metadata": {
    "collapsed": false
   },
   "outputs": [],
   "source": [
    "Canvas = TCanvas()"
   ]
  },
  {
   "cell_type": "markdown",
   "metadata": {},
   "source": [
    "## Fill histogram with data"
   ]
  },
  {
   "cell_type": "code",
   "execution_count": null,
   "metadata": {
    "collapsed": false
   },
   "outputs": [],
   "source": [
    "for photon in file.Photons:\n",
    "    \n",
    "    pho1 = TLorentzVector(photon.Photon1_Px, photon.Photon1_Py, photon.Photon1_Pz, photon.Photon1_Energy)\n",
    "    \n",
    "    pho2 = TLorentzVector(photon.Photon2_Px, photon.Photon2_Py, photon.Photon2_Pz, photon.Photon2_Energy)\n",
    "    \n",
    "    InvariantEnergy = (pho1 + pho2).M()\n",
    "    \n",
    "    if(InvariantEnergy > 100 and InvariantEnergy < 160): \n",
    "        \n",
    "        diphoton.Fill(InvariantEnergy)"
   ]
  },
  {
   "cell_type": "code",
   "execution_count": null,
   "metadata": {
    "collapsed": false
   },
   "outputs": [],
   "source": [
    "diphoton.Draw()\n",
    "\n",
    "Canvas.Draw()"
   ]
  },
  {
   "cell_type": "markdown",
   "metadata": {},
   "source": [
    "## Now look for the H -> $\\gamma\\gamma$ resonance"
   ]
  },
  {
   "cell_type": "code",
   "execution_count": null,
   "metadata": {
    "collapsed": true
   },
   "outputs": [],
   "source": [
    "higgs = TH1F(\"higgs\",\"#gamma#gamma mass;#gamma#gamma mass [GeV];Events\", 1000, 110, 140)"
   ]
  },
  {
   "cell_type": "code",
   "execution_count": null,
   "metadata": {
    "collapsed": true
   },
   "outputs": [],
   "source": [
    "for photon in file.Photons:\n",
    "    \n",
    "    pho1 = TLorentzVector(photon.Photon1_Px, photon.Photon1_Py, photon.Photon1_Pz, photon.Photon1_Energy)\n",
    "    \n",
    "    pho2 = TLorentzVector(photon.Photon2_Px, photon.Photon2_Py, photon.Photon2_Pz, photon.Photon2_Energy)\n",
    "    \n",
    "    InvariantEnergy = (pho1 + pho2).M()\n",
    "    \n",
    "    if(InvariantEnergy > 110 and InvariantEnergy < 140): \n",
    "        \n",
    "        higgs.Fill(InvariantEnergy)"
   ]
  },
  {
   "cell_type": "code",
   "execution_count": null,
   "metadata": {
    "collapsed": true
   },
   "outputs": [],
   "source": [
    "Canvas.Clear()\n",
    "\n",
    "Gaussian = TF1(\"Gaussian\",\"gaus\", 120, 130)\n",
    "Background  = TF1(\"Background\",\"pol1\", 120, 130)\n",
    "\n",
    "Gaussian.SetLineColor(kRed)\n",
    "Background.SetLineColor(kGreen)\n",
    "\n",
    "higgs.Fit(Gaussian,\"R\")\n",
    "higgs.Fit(Background,\"R+\")\n",
    "\n",
    "Canvas.Draw()"
   ]
  }
 ],
 "metadata": {
  "anaconda-cloud": {},
  "kernelspec": {
   "display_name": "Python [Root]",
   "language": "python",
   "name": "Python [Root]"
  },
  "language_info": {
   "codemirror_mode": {
    "name": "ipython",
    "version": 2
   },
   "file_extension": ".py",
   "mimetype": "text/x-python",
   "name": "python",
   "nbconvert_exporter": "python",
   "pygments_lexer": "ipython2",
   "version": "2.7.12"
  }
 },
 "nbformat": 4,
 "nbformat_minor": 0
}
