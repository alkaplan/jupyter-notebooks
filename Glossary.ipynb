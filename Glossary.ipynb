{
 "cells": [
  {
   "cell_type": "markdown",
   "metadata": {},
   "source": [
    "<img src=\"http://files.oproject.org/img/HeaderOpenData.png\">\n",
    "# <center>CMS Open Data Glossary</center>"
   ]
  },
  {
   "cell_type": "markdown",
   "metadata": {},
   "source": [
    "\n",
    "Python|Root|Physics\n",
    "---|---|---|\n",
    "<h4>print()</h4> <br> Python’s print() function outputs to the console. It can be used either by putting the desired output within the parenthesis, like:<br><br>```print(“Hello, world!”)```<br><br> or by putting the data directly after:<br><br> ```print “Hello, world!”```|<h4>%jsroot</h4><br>This “magic” line that comes shortly after the imports allows root to use javascript to interact with the web page.  This can be seen in the ability to zoom and scroll the histograms that root creates. |<h4>Quarks</h4><br> Quarks are elementary particles. They combine to form composite particles, such as protons and neutrons. Quarks are never directly observed or found in isolation; they can be found only within other particles. They have various intrinsic properties, such as electric charge, mass, color charge and spin. They are the only particles whose electric charges are not integer. There are six types of quarks, known as flavors: up, down, strange, charm, top, and bottom.\n",
    "<h4>python math</h4><br>Python can do many simple math operations just as you would normally type them.  For example:<br><br> ```1+3```<br>```18/4```<br>```x = 18 * 12``` |<h4>TFile</h4><br>TFile is a function that can be used to access ROOT files. To create a file object you can use the TFile constructor. It takes in a file and the action to do as parameters, both strings.  The file parameter is a string that includes the local location of the file.  E.g.:<br>``mydata = TFile(“Data.root”, \"READ\")``|<h4>Leptons</h4><br>Leptons are simple elementary particles. Two main classes of leptons exist: charged leptons and neutral leptons. Charged leptons can combine with other particles to form composite particles while neutrinos rarely interact with anything. There are six types of leptons, known as flavours, forming three generations. \n",
    "<h4>% (modulo)</h4><br>Modulo is an operation that takes the remainder of the first number divided by the second.  For example, <br>```13 % 5 = 3```<br>```18 % 4 = 2```<br>```60 % 5 = 0```<br> |<h4>TH1F</h4><br>In root, TH1F is a constructor for a histogram. The most common constructor takes in a “constant char” (or string of letters) name, const char title, integer number of bins, double minimum x axis value, and double maximum x axis value.  The constructor is written in the documentation as follows:<br>```TH1F (const char *name, const char *title, Int_t nbinsx, Double_t xlow, Double_t xup)```|<h4>Fermion</h4><br>Fermions are particles characterized by Fermi–Dirac statistics. Fermions include all quarks and leptons, as well as any composite particle made of an odd number of these. A fermion can be an elementary particle, such as the electron, or it can be a composite particle, such as the proton. \n",
    "<h4>Lists</h4><br>Lists are a way to store multiple data pieces of data in python in a single variable. Lists can be declared in a single-line or you can go through and individually declare each piece of data in the list.  For example:<br><br>```particles = [‘muon’, ’electron’, ’tau’, ’photon’]```<br><br> New items can be added to the list using ```.append()``` For example:<br> ```particles.append(‘neutrino’)```<br> Items can also be removed with ```.remove()```, which can either take the index of the item (such as ```particles.remove(particles[1])```) or the name of the item, e.g. <br>```particles.remove(‘muon’)``` |<h4>Draw</h4><br>This is a function that draws its parent object.  The .Draw() function will add the parent to a TCanvas. E.g.: <br>```histogram.Draw()```|<h4>Muon</h4><br> Muons are elementary particles. Their symbol is μ -. They have an electric charge of -1e and a spin of ½. They belongs in the category of leptons and specifically it is a  fermion, a second generation particle. \n",
    "<h4>Functions</h4><br>You can define functions in python that take in one or more parameter(s) and return data so that you don’t have to write the same code over and over.  Everything after the declaration of a function must be indented at least one indent.  E.g.: <br> ```def cube(number):```<br>&nbsp;```return number ** 3```|<h4>cd</h4><br>The cd command, which stands for change directory, is a command used to change the current working directory. A directory is a section of a file system used to hold files. Therefore, you can use this command in order to change into a subdirectory, move back into the parent directory, or move all the way back to any given directory.|<h4>Dimuon</h4><br>Dimuons are particles composed of two muons or a system containing two muons.\n",
    "<h4>Imports</h4><br>Sometimes other people have written functions for things that you want to do.  If you want to find the sine of an angle, instead of defining the sine function it would be easier to import sin from the math library. E.g. <br>```from math import sin```|<h4>TCanvas</h4><br> TCanvas is a canvas that can be used to house “pads” or graphs and visualizations such as histograms.  In jupyter notebooks, TCanvas can be reliably used without any parameters in the constructor, i.e.<br>```TCanvas()```|<h4>CMS</h4><br>  The LHC smashes groups of protons together at close to the speed of light. When they collide some of the energy of the collision is turned into mass and previously unobserved, short-lived particles fly out. CMS stands for Compact Muon Solenoid, and it is a particle detector that is designed to see a wide range of particles and phenomena produced in high-energy collisions in the LHC. Different layers of detectors measure the different particles, and use this to build up a picture of events at the heart of the collision.\n",
    "<h4>Loops</h4><br>Loops are a useful way to evaluate a large amount of data from one set.  Instead of having to type each analysis individually (e.g. if particle.energy[0] > 5) you can analyze each particle using the same function by looping through the data. E.g.:<br>```for particle in list:```<br>\t```if particle.energy > 5:```<br>\t\t```otherlist.append(particle)```|<h4>Fill</h4>Fill is another feature of Root, which is used to fill a histogram with data. It takes in a double as its input, which is maps to the x-axis of the histogram.  That data point is then added to the bar that exists over the range that the value (the parameter of .Fill()) exists in.  For example, in a histogram with 4 bars each of length 1 from 0-4, histogram.Fill(3) would increment the bin with index 3 by one. E.g.<br>```histogram.Fill(double)```<br>|<h4>Relativistic Momentum</h4><br> Relativistic momentum is the way that momentum changes as velocity approaches <i>c</i>.  The equation for relativistic momentum,  <i>p</i>, is very similar to Newtonian momentum, except it is shifted by the <a href=\"http://en.wikipedia.org/wiki/Lorentz_Factor\">Lorentz Factor</a>, γ.  Thus, p = γmv. Interesting to note is that γ increases without bound as velocity approaches c, as demonstrated by the following graph. <br><img src=\"https://upload.wikimedia.org/wikipedia/commons/thumb/0/00/Lorentz_factor.svg/220px-Lorentz_factor.svg.png\">\n",
    "<h4>sin()</h4><br>sin is a trigonometric function that takes in an angle and returns the ratio of the opposite side length over the hypotenuse side length.  It is in the family of trig functions that includes ```sin, cos, tan,``` and others.|<h4>TLorentzVector</h4><br>TLorentzVector has two commonly used constructors.  One is dependant upon position and time, and it takes in the parameters ```x, y, z, and t```, while the other is dependant upon momentum and energy, which takes in the parameters ```Px, Py, Pz, and E```.  The Lorentz Vector operation can compute the invariant mass of the particle using the scalar product of two four-vectors, calculated using the ```+,-,-,-``` metric. The formula for the invariant mass is: ```E1*E2-Px1*Px2-Py1*Py2-Pz1*Pz2```| <h4>Charge</h4><br> Electric charge is a characteristic of a unit of matter that expresses the extent to which it has more or fewer electrons than protons. In atoms, the electron carries a negative charge; the proton carries a positive charge, while the neutron is neutral. Elementary particles have charges as well, although quarks are the only ones whose charge is not an integral number. Atoms are neutral. \n",
    "||<h4>Global Muons</h4> <br>For each standalone muon track, a search for tracks matching it among those reconstructed in the inner tracking system is performed, and the best-matching tracker track is selected. For each \"standalone muon\" pair, the track fit using all hits in both tracks is performed. The result is a collection of  objects referred to as \"global muons\". These have a much higher chance of being actual muon data points rather than noise or flawed data.\n",
    "||<h4>Invariant mass</h4><br>Invariant mass is the rest mass of a particle.  It can be determined by annihalating the particle with its antiparticle and measuring the amount of energy emitted by light.\n",
    "||<h4>Resonance</h4><br>In particle physics, a resonance is a peak around a certain energy on the mass spectroscopic graph of collisions between particles that is indicative of another particle existing with that energy.  <img src=\"http://i.stack.imgur.com/8UcVJ.png\" width=\"300\">Each peak on the diagram above is a dimuon resonance.\n",
    "\n"
   ]
  },
  {
   "cell_type": "code",
   "execution_count": null,
   "metadata": {
    "collapsed": true
   },
   "outputs": [],
   "source": []
  }
 ],
 "metadata": {
  "anaconda-cloud": {},
  "kernelspec": {
   "display_name": "Python [Root]",
   "language": "python",
   "name": "Python [Root]"
  },
  "language_info": {
   "codemirror_mode": {
    "name": "ipython",
    "version": 2
   },
   "file_extension": ".py",
   "mimetype": "text/x-python",
   "name": "python",
   "nbconvert_exporter": "python",
   "pygments_lexer": "ipython2",
   "version": "2.7.12"
  }
 },
 "nbformat": 4,
 "nbformat_minor": 0
}
